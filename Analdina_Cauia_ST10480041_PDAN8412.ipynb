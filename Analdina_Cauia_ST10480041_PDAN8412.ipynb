{
 "cells": [
  {
   "cell_type": "markdown",
   "id": "688f95dc-4207-489a-904b-d429ec91f054",
   "metadata": {},
   "source": [
    "<div style=\"border: 2px solid #4CAF50; background-color: #f0f9f0; padding: 10px; border-radius: 8px; text-align: center;\">\n",
    "  <h2 style=\"color: #4CAF50; margin: 0;\"> Author Prediction, Applying Long-Term Short-Term Recurrent Neural Network\n",
    " </h2>\n",
    "</div>\n"
   ]
  },
  {
   "cell_type": "markdown",
   "id": "f8d16153-6d6a-4f34-b0ce-224dc6dd678e",
   "metadata": {},
   "source": [
    " ## Data Justification ##"
   ]
  },
  {
   "cell_type": "markdown",
   "id": "74e8f812-7581-4358-a28f-94bb1db68d29",
   "metadata": {},
   "source": [
    "<div >In this analysis for author prediction, we applied a combination of tools to enhance the prediction workflow and improve every step of this work. First, let's highlight that the code used SpySparks and TensorFlow, both of which were used with different tasks. SpySparks was applied for large-scale data processing, data handling, and feature engineering, while TensorFlow was used to train and evaluate the model.</div>"
   ]
  },
  {
   "cell_type": "markdown",
   "id": "8eef9bba-51e8-4ae0-9df4-0d96df5034a1",
   "metadata": {},
   "source": [
    "## Dataset ##"
   ]
  },
  {
   "cell_type": "markdown",
   "id": "a6b322b6-62a2-4b5c-bae0-e97590d0e64c",
   "metadata": {},
   "source": [
    "<div > The dataset from Kaggle contains 93,600 texts from 50 authors, provided in the Fifty Victorian Era Novelists Authorship Attribution Data (2018) collection. The dataset is suitable for a Long Short-Term Memory (LSTM) Recurrent Neural Network because the text is sequential in nature, captures unique patterns for each author, and enables accurate prediction. It consists of two files: the first is the training dataset, which contains two columns (text and author) and was used to train and evaluate the model; the second contains only one column (text) and was used for author prediction.</div >"
   ]
  },
  {
   "cell_type": "markdown",
   "id": "dacb667b-566b-4b41-b01e-aa32a5c9e5cc",
   "metadata": {},
   "source": [
    "## Analysis Plan ##"
   ]
  },
  {
   "attachments": {},
   "cell_type": "markdown",
   "id": "faf01eec-93fc-4872-8d35-0fddcdbe2d35",
   "metadata": {},
   "source": [
    "\n",
    "  1.\tDataset Evaluation and Justification\n",
    "    \n",
    "  2.\tExploratory Data Analysis (EDA)\n",
    "\n",
    "  3.\tFeature Selection\n",
    "\n",
    "  4.    Model Evaluation\n",
    "\n",
    "  5.\tModel Training Plan\n",
    "\n",
    "  6.\tModel Evaluation Plan\n",
    "\n",
    "  7.    Prediction (Second dataset)"
   ]
  },
  {
   "cell_type": "markdown",
   "id": "b1381fa3-09b4-4747-a7d4-247a3aa0ed2c",
   "metadata": {},
   "source": [
    "### Data Preprocessing (PySpark First dataset) ###\n"
   ]
  },
  {
   "cell_type": "code",
   "execution_count": 138,
   "id": "236350e3-242d-4e29-9981-982fffd62aa5",
   "metadata": {},
   "outputs": [
    {
     "name": "stdout",
     "output_type": "stream",
     "text": [
      "Name: pyspark\n",
      "Version: 4.0.1\n",
      "Summary: Apache Spark Python API\n",
      "Home-page: https://github.com/apache/spark/tree/master/python\n",
      "Author: Spark Developers\n",
      "Author-email: dev@spark.apache.org\n",
      "License: http://www.apache.org/licenses/LICENSE-2.0\n",
      "Location: /opt/anaconda3/envs/tf_env3/lib/python3.10/site-packages\n",
      "Requires: py4j\n",
      "Required-by: \n",
      "Note: you may need to restart the kernel to use updated packages.\n"
     ]
    }
   ],
   "source": [
    "pip show pyspark #check the pyspark details"
   ]
  },
  {
   "cell_type": "code",
   "execution_count": 2,
   "id": "ace2539f-c51a-4f16-851b-504ff865e323",
   "metadata": {},
   "outputs": [
    {
     "name": "stderr",
     "output_type": "stream",
     "text": [
      "WARNING: Using incubator modules: jdk.incubator.vector\n",
      "Using Spark's default log4j profile: org/apache/spark/log4j2-defaults.properties\n",
      "Setting default log level to \"WARN\".\n",
      "To adjust logging level use sc.setLogLevel(newLevel). For SparkR, use setLogLevel(newLevel).\n",
      "25/10/03 05:07:06 WARN NativeCodeLoader: Unable to load native-hadoop library for your platform... using builtin-java classes where applicable\n",
      "25/10/03 05:07:06 WARN Utils: Service 'SparkUI' could not bind on port 4040. Attempting port 4041.\n"
     ]
    },
    {
     "name": "stdout",
     "output_type": "stream",
     "text": [
      "Spark session started: 4.0.1\n"
     ]
    }
   ],
   "source": [
    "from pyspark.sql import SparkSession #starting spark session and Spark version\n",
    "\n",
    "spark = SparkSession.builder \\\n",
    "    .appName(\"AuthorPrediction\") \\\n",
    "    .getOrCreate()\n",
    "\n",
    "print(\"Spark session started:\", spark.version)\n"
   ]
  },
  {
   "cell_type": "code",
   "execution_count": 3,
   "id": "b0a61485-0999-43bc-a5cc-44d79658eabc",
   "metadata": {},
   "outputs": [],
   "source": [
    "spark.sparkContext.setLogLevel(\"ERROR\")# very Spark application generates logs (INFO, WARN, ERROR, DEBUG).\n"
   ]
  },
  {
   "cell_type": "code",
   "execution_count": 4,
   "id": "cd3231f8-fe10-49de-bca4-16239dba4c19",
   "metadata": {},
   "outputs": [
    {
     "name": "stdout",
     "output_type": "stream",
     "text": [
      "Requirement already satisfied: charset_normalizer in /opt/anaconda3/envs/tf_env3/lib/python3.10/site-packages (3.3.2)\n",
      "Note: you may need to restart the kernel to use updated packages.\n"
     ]
    }
   ],
   "source": [
    "pip install charset_normalizer# instaling chart_normalizer"
   ]
  },
  {
   "cell_type": "markdown",
   "id": "a6e4555a-4eb6-40b9-b095-b07a71b6a036",
   "metadata": {},
   "source": [
    "## Importing Libraries ##"
   ]
  },
  {
   "cell_type": "code",
   "execution_count": 5,
   "id": "90bba59a-e85a-4379-a847-e63e74e31fe3",
   "metadata": {},
   "outputs": [
    {
     "name": "stderr",
     "output_type": "stream",
     "text": [
      "/opt/anaconda3/envs/tf_env3/lib/python3.10/site-packages/requests/__init__.py:86: RequestsDependencyWarning: Unable to find acceptable character detection dependency (chardet or charset_normalizer).\n",
      "  warnings.warn(\n"
     ]
    }
   ],
   "source": [
    "import numpy as np #for numerical operations\n",
    "import pandas as pd # for data manipulation \n",
    "import tensorflow as tf #for import tensorflow open-source machine learning, suitable for training neural networks. \n",
    "from sklearn.preprocessing import LabelEncoder # to convert categorical labels into numerical labels.\n",
    "from tensorflow.keras.preprocessing.text import Tokenizer# it's part of keras and it was used for turning text into a sequential integer.\n",
    "from sklearn.model_selection import train_test_split## Splits dataset into training and test sets\n",
    "import re#Regular expressions for text cleaning \n",
    "from tensorflow.keras.preprocessing.text import Tokenizer# Pads sequences to the same length (important for LSTMs)\n",
    "\n",
    "from tensorflow.keras.preprocessing.sequence import pad_sequences#Used to build models layer by layer\n",
    "from tensorflow.keras.models import Sequential#\n",
    "from tensorflow.keras.layers import LSTM, Dense, Embedding, Dropout## LSTM: Long Short-Term Memory layer for sequence modeling\n",
    "# Dense: Fully connected output layer\n",
    "# Embedding: Turns words into dense vectors\n",
    "# Dropout: Prevents overfitting by randomly ignoring neurons\n",
    "from tensorflow.keras.utils import to_categorical## Converts labels into one-hot encoded format\n",
    "\n",
    "from tensorflow.keras.callbacks import EarlyStopping# Stops training early if validation performance stops improving\n",
    "\n",
    "from pyspark.sql.functions import lower, regexp_replace, trim# PySpark functions for text preprocessing: lowercase, remove patterns, trim spaces\n",
    "\n",
    "from tensorflow.keras.layers import BatchNormalization# Normalizes activations, improves stability during training\n",
    "from tensorflow.keras.layers import Bidirectional, LSTM# Bidirectional wrapper for LSTMs (looks at text both forward and backward)\n",
    "\n",
    "\n",
    "\n"
   ]
  },
  {
   "cell_type": "code",
   "execution_count": 6,
   "id": "bb347b46-5393-4d65-996b-37d038c73c55",
   "metadata": {},
   "outputs": [
    {
     "name": "stdout",
     "output_type": "stream",
     "text": [
      "Spark version: 4.0.1\n"
     ]
    }
   ],
   "source": [
    "import os# checking spark version, once more\n",
    "\n",
    "os.environ[\"PYSPARK_PYTHON\"] = \"/opt/anaconda3/envs/tf_env3/bin/python\"\n",
    "os.environ[\"PYSPARK_DRIVER_PYTHON\"] = \"/opt/anaconda3/envs/tf_env3/bin/python\"\n",
    "\n",
    "from pyspark.sql import SparkSession\n",
    "\n",
    "spark = SparkSession.builder.appName(\"AuthorPrep\").getOrCreate()\n",
    "print(\"Spark version:\", spark.version)\n"
   ]
  },
  {
   "cell_type": "code",
   "execution_count": 7,
   "id": "04e94f07-851d-4acf-8688-e512e75813e5",
   "metadata": {},
   "outputs": [
    {
     "name": "stdout",
     "output_type": "stream",
     "text": [
      "root\n",
      " |-- text: string (nullable = true)\n",
      " |-- author: string (nullable = true)\n",
      "\n",
      "+--------------------+------+\n",
      "|                text|author|\n",
      "+--------------------+------+\n",
      "|ou have time to l...|     1|\n",
      "|wish for solitude...|     1|\n",
      "|and the skirt ble...|     1|\n",
      "|of san and the ro...|     1|\n",
      "|an hour s walk wa...|     1|\n",
      "+--------------------+------+\n",
      "only showing top 5 rows\n"
     ]
    }
   ],
   "source": [
    "df_spark = spark.read.csv(\"Gungor_2018_VictorianAuthorAttribution_data-train.csv\", header=True, encoding='ISO-8859-1')#Loading datase and first fiverows\n",
    "df_spark.printSchema()\n",
    "df_spark.show(5)\n"
   ]
  },
  {
   "cell_type": "code",
   "execution_count": 8,
   "id": "4324cd5b-d313-4526-9ac1-df9b125bcfc4",
   "metadata": {},
   "outputs": [],
   "source": [
    "from pyspark.sql.functions import length# remove values and filters shorter than 50 characters \n",
    "\n",
    "df_clean = df_spark.filter(df_spark[\"text\"].isNotNull()) \\\n",
    "                   .filter(length(df_spark[\"text\"]) > 50)\n"
   ]
  },
  {
   "cell_type": "code",
   "execution_count": 9,
   "id": "6f4bdbe9-ea24-4f1b-99b5-8b0a103fb941",
   "metadata": {},
   "outputs": [
    {
     "name": "stderr",
     "output_type": "stream",
     "text": [
      "                                                                                "
     ]
    },
    {
     "data": {
      "text/plain": [
       "(53678, 53678)"
      ]
     },
     "execution_count": 9,
     "metadata": {},
     "output_type": "execute_result"
    }
   ],
   "source": [
    "df_clean.count(), df_clean.dropDuplicates().count()#checking duplicates values\n"
   ]
  },
  {
   "cell_type": "code",
   "execution_count": 10,
   "id": "e2221a8e-414b-4c32-89e0-f933fb706bcf",
   "metadata": {},
   "outputs": [
    {
     "name": "stderr",
     "output_type": "stream",
     "text": [
      "[Stage 11:>                                                         (0 + 8) / 8]"
     ]
    },
    {
     "name": "stdout",
     "output_type": "stream",
     "text": [
      "+-------+--------------------+------------------+\n",
      "|summary|                text|            author|\n",
      "+-------+--------------------+------------------+\n",
      "|  count|               53678|             53678|\n",
      "|   mean|                NULL|24.969466075487166|\n",
      "| stddev|                NULL|13.870535982665045|\n",
      "|    min|a a b dr j c g b ...|                 1|\n",
      "|    max|â â â â â â â â â...|                 9|\n",
      "+-------+--------------------+------------------+\n",
      "\n"
     ]
    },
    {
     "name": "stderr",
     "output_type": "stream",
     "text": [
      "                                                                                "
     ]
    }
   ],
   "source": [
    "df_clean.describe().show()#the statistics about the texts\n"
   ]
  },
  {
   "cell_type": "code",
   "execution_count": 11,
   "id": "2e892a7b-4168-4e62-84e9-10d0622ae872",
   "metadata": {},
   "outputs": [
    {
     "name": "stdout",
     "output_type": "stream",
     "text": [
      "root\n",
      " |-- text: string (nullable = true)\n",
      " |-- author: string (nullable = true)\n",
      "\n"
     ]
    }
   ],
   "source": [
    "df_clean.printSchema()#Display the struteru of the dataset\n",
    "\n"
   ]
  },
  {
   "cell_type": "code",
   "execution_count": 12,
   "id": "7cb0ad90-e29f-4c13-a16b-cfe188deb8f6",
   "metadata": {},
   "outputs": [
    {
     "name": "stderr",
     "output_type": "stream",
     "text": [
      "[Stage 14:=======>                                                  (1 + 7) / 8]"
     ]
    },
    {
     "name": "stdout",
     "output_type": "stream",
     "text": [
      "+----+------+\n",
      "|text|author|\n",
      "+----+------+\n",
      "|   0|     0|\n",
      "+----+------+\n",
      "\n"
     ]
    },
    {
     "name": "stderr",
     "output_type": "stream",
     "text": [
      "                                                                                "
     ]
    }
   ],
   "source": [
    "from pyspark.sql.functions import col, when, count# Check before processing if need to handle missing value\n",
    "\n",
    "df_clean.select([\n",
    "    count(when(col(c).isNull(), c)).alias(c)\n",
    "    for c in df_clean.columns\n",
    "]).show()\n"
   ]
  },
  {
   "cell_type": "code",
   "execution_count": 13,
   "id": "034e0558-737a-48c7-b892-b1c44499c89f",
   "metadata": {},
   "outputs": [
    {
     "name": "stderr",
     "output_type": "stream",
     "text": [
      "[Stage 17:===========================================>              (6 + 2) / 8]"
     ]
    },
    {
     "name": "stdout",
     "output_type": "stream",
     "text": [
      "+----+------+\n",
      "|text|author|\n",
      "+----+------+\n",
      "|   0|     0|\n",
      "+----+------+\n",
      "\n"
     ]
    },
    {
     "name": "stderr",
     "output_type": "stream",
     "text": [
      "                                                                                "
     ]
    }
   ],
   "source": [
    "from pyspark.sql.functions import col, when, count, trim# Another robust way to handle missing values \n",
    "\n",
    "df_clean.select([\n",
    "    count(when(col(c).isNull() | (trim(col(c)) == \"\"), c)).alias(c)\n",
    "    for c in df_clean.columns\n",
    "]).show()\n"
   ]
  },
  {
   "cell_type": "code",
   "execution_count": 14,
   "id": "37b0566f-87d2-4dd0-a623-2b8eb5d52c97",
   "metadata": {},
   "outputs": [
    {
     "name": "stderr",
     "output_type": "stream",
     "text": [
      "                                                                                "
     ]
    }
   ],
   "source": [
    "df_pd = df_clean.toPandas()#text processing, remove pontuation.\n"
   ]
  },
  {
   "cell_type": "code",
   "execution_count": 15,
   "id": "9ea56389-e7e7-4cad-bd07-f3193bdfe92e",
   "metadata": {},
   "outputs": [],
   "source": [
    "from pyspark.sql.functions import lower, regexp_replace, trim# create a new column, clean text on the sparks \n",
    "\n",
    "df_clean = df_spark.withColumn(\"clean_text\",\n",
    "    trim(regexp_replace(\n",
    "        regexp_replace(lower(df_spark[\"text\"]), r\"[^\\w\\s]\", \"\"), r\"\\d+\", \"\"\n",
    "    ))\n",
    ")\n"
   ]
  },
  {
   "cell_type": "code",
   "execution_count": 16,
   "id": "a7004638-94fa-40a9-84cb-d62f2d39aa43",
   "metadata": {},
   "outputs": [
    {
     "name": "stderr",
     "output_type": "stream",
     "text": [
      "[Stage 21:>                                                         (0 + 1) / 1]"
     ]
    },
    {
     "name": "stdout",
     "output_type": "stream",
     "text": [
      "+------+----------------------------------------------------------------------------------------------------------------------------------------------------------------------------------------------------------------------------------------------------------------------------------------------------------------------------------------------------------------------------------------------------------------------------------------------------------------------------------------------------------------------------------------------------------------------------------------------------------------------------------------------------------------------------------------------------------------------------------------------------------------------------------------------------------------------------------------------------------------------------------------------------------------------------------------------------------------------------------------------------------------------------------------------------------------------------------------------------------------------------------------------------------------------------------------------------------------------------------------------------------------------------------------------------------------------------------------------------------------------------------------------------------------------------------------------------------------------------------------------------------------------------------------------------------------------------------------------------------------------------------------------------------------------------------------------------------------------------------------------------------------------------------------------------------------------------------------------------------------------------------------------------------------------------------------------------------------------------------------------------------------------------------------------------------------------------------------------------------------------------------------------------------------------------------------------------------------------------------------------------------------------------------------------------------------------------------------------------------------------------------------------------------------------------------------------------------------------------------------------------------------------------------------------------------------------------------------------------------------------------------------------------------------------------------------------------------------------------------------------------------------------------------------------------------------------------------------------------------------------------------------------------------------------------------------------------------------------------------------------------------------------------------------------------------------------------------------------------------------------------------------------------------------------------------------------------------------------------------------------------------------------------------------------------------------------------------------------------------------------------------------------------------------------------------------------------------------------------------------------------------------------------------------------------------------------------------------------------------------------------------------------------------------------------------------------------------------------------------------------------------------------------------------------------------------------------------------------------------------------------------------------------------------------------------------------------------------------------------------------------------------------------------------------------------------------------------------------------------------------------------------------------------------------------------------------------------------------------------------------------------------------------------------------------------------------------------------------------------------------------------------------------------------------------------------------------------------------------------------------------------------------------------------------------------------------------------------------------------------------------------------------------------------------------------------------------------------------------------------------------------------------------------------------------------------------------------------------------------------------------------------------------------------------------------------------------------------------------------------------------------------------------------------------------------------------------------------------------------------------------------------------------------------------------------------------------------------------------------------------------------------------------------------------------------------------------------------------------------------------------------------------------------------------------------------------------------------------------------------------------------------------------------------------------------------------------------------+\n",
      "|author|clean_text                                                                                                                                                                                                                                                                                                                                                                                                                                                                                                                                                                                                                                                                                                                                                                                                                                                                                                                                                                                                                                                                                                                                                                                                                                                                                                                                                                                                                                                                                                                                                                                                                                                                                                                                                                                                                                                                                                                                                                                                                                                                                                                                                                                                                                                                                                                                                                                                                                                                                                                                                                                                                                                                                                                                                                                                                                                                                                                                                                                                                                                                                                                                                                                                                                                                                                                                                                                                                                                                                                                                                                                                                                                                                                                                                                                                                                                                                                                                                                                                                                                                                                                                                                                                                                                                                                                                                                                                                                                                                                                                                                                                                                                                                                                                                                                                                                                                                                                                                                                                                                                                                                                                                                                                                                                                                                                                                                                                                                                                                                                                                                              |\n",
      "+------+----------------------------------------------------------------------------------------------------------------------------------------------------------------------------------------------------------------------------------------------------------------------------------------------------------------------------------------------------------------------------------------------------------------------------------------------------------------------------------------------------------------------------------------------------------------------------------------------------------------------------------------------------------------------------------------------------------------------------------------------------------------------------------------------------------------------------------------------------------------------------------------------------------------------------------------------------------------------------------------------------------------------------------------------------------------------------------------------------------------------------------------------------------------------------------------------------------------------------------------------------------------------------------------------------------------------------------------------------------------------------------------------------------------------------------------------------------------------------------------------------------------------------------------------------------------------------------------------------------------------------------------------------------------------------------------------------------------------------------------------------------------------------------------------------------------------------------------------------------------------------------------------------------------------------------------------------------------------------------------------------------------------------------------------------------------------------------------------------------------------------------------------------------------------------------------------------------------------------------------------------------------------------------------------------------------------------------------------------------------------------------------------------------------------------------------------------------------------------------------------------------------------------------------------------------------------------------------------------------------------------------------------------------------------------------------------------------------------------------------------------------------------------------------------------------------------------------------------------------------------------------------------------------------------------------------------------------------------------------------------------------------------------------------------------------------------------------------------------------------------------------------------------------------------------------------------------------------------------------------------------------------------------------------------------------------------------------------------------------------------------------------------------------------------------------------------------------------------------------------------------------------------------------------------------------------------------------------------------------------------------------------------------------------------------------------------------------------------------------------------------------------------------------------------------------------------------------------------------------------------------------------------------------------------------------------------------------------------------------------------------------------------------------------------------------------------------------------------------------------------------------------------------------------------------------------------------------------------------------------------------------------------------------------------------------------------------------------------------------------------------------------------------------------------------------------------------------------------------------------------------------------------------------------------------------------------------------------------------------------------------------------------------------------------------------------------------------------------------------------------------------------------------------------------------------------------------------------------------------------------------------------------------------------------------------------------------------------------------------------------------------------------------------------------------------------------------------------------------------------------------------------------------------------------------------------------------------------------------------------------------------------------------------------------------------------------------------------------------------------------------------------------------------------------------------------------------------------------------------------------------------------------------------------------------------------------------------------+\n",
      "|1     |ou have time to listen i will give you the entire story he said it may form the basis of a future novel and prove quite as interesting as one of your own invention i had the time to listen of course one has time for anything and everything agreeable in the best place to hear the tale was in a victoria and with my good on the box with the coachman we set out at once on a drive to the as the recital was only half through when we reached the house we postponed the remainder while we stopped there for an excellent lunch on the way back to my friend continued and finished the story it was indeed quite suitable for use and i told my friend with thanks that i should at once put it in shape for my readers i said i should make a few alterations in it for the sake of dramatic interest but in the main would follow the lines he had given me it would spoil my romance were i to answer on this page the question that must be uppermost in the reader s mind i have already revealed almost too much of the plot for the rest i must refer you t without more to the chapters that follow chapter i in a it was very early in the morning and the responded to the call of the young american on the the rowed leisurely to the bank for the gentry to which he belongs does not easily get excited and helped his fare into the with a grace inherited from generations of polite ancestors where he asked in his italian and the young man who hardly knew a word of the language had no difficulty in the meaning of the question anywhere he answered with a wave of his hand as easily understood as the term used by the other he wanted an early row among the of and as he had been in the silent city love gone astray but a short time one direction was as agreeable to him as another the took his long oar and began to his craft by those strange sweeping motions that so interest and puzzle one unused to this style of standing well back toward the stern he sent the beautiful creature of which he seemed a part as gracefully through the water as any swan he rowed slowly both from preference and because it was evident that haste was not desired by his passenger he rowed because there is no other mode known to the of from the attendant of a to the freight who brings a load of from the or of vegetables from the islands where the market gardens are for a while the course of the boat lay along the grand canal it passed under the venerable as solid as london bridge in effect one massive stone that will be as far as human judgment can foresee until the earth is in its final on either side of the canal long lines of palaces shone in the early light their occupants for the most part yet invisible was still asleep lovely as she is at all times this stately creature is never so pretty as when in repose a glide along her watery streets just before sunrise is like moving silently through a garden where lie in slumber in there is no wheeled carriage of any description not a horse mule ox goat sheep puts his foot upon her the station at which you arrive by train is at an extreme corner of the in a city and even its necessary noise is tempered by the surroundings the only of passenger or goods service are the boats which make hardly more disturbance for the ear than a fish passing over the same route every sound and when the city she is capable of many sounds proceeds from the voices of individuals or the of the sacred that are fed by thousands at all hours in the of st mark the of various wares seems to feel that it is incumbent upon him to mock the echoes of the winding over which one may stroll the themselves when there is a possible occasion cry out to each other in weird tones especially at narrow of the side to prevent collision with craft approaching silently from beyond the stone and brick of a corner besides in protest of the natural stillness of their city they quarrel for hours in front of the principal hotels with as much effect as a parcel of highly birds in an african forest but for these things would be as quiet as the in which the pin is about to drop or as a in a superstitious neighborhood at the morning hour when young gray rode in his under the these noises had only faintly begun and the delight he felt in his excursion was great he wanted the effect of solitude with the hidden from sight by his position the boat seemed by a sail or the force of a tide until men have mastered the currents of the love gone upper air and can voyage whither they please in the there will be no effect so nearly like it as to float on the bosom of a canal the drift the current of a river does not give the same impression for there is a tiresome row in prospect before the starting point can be regained no boat by machinery even the tidy little equals it for the noise of the wheels cannot entirely be and the smell of the themselves in spite of all precaution to the nostrils the may give more excitement as she bird like across the waters of the sea but she does not lull the senses and transport the into another world from which he may return at pleasure only the does this why did gray                                                                                                                                                                                                                                                                              |\n",
      "|1     |wish for solitude he was twenty years of age and in the possession of perfect health most youths like him would have the stillness of the and welcomed joyfully the first signs of that awakening that would come with the sunrise was sentimental the strangeness of the situation gave him a real delight he lay back in the comfortable seat stretched his legs and gave himself up to reverie his brain dwelt on the poetic quality of this peculiar place its history of which he had read much passed slowly through his mind he wished he had lived some centuries earlier to have seen these islands when the of the whole world came there with treasures of distant lands and when st mark s held a gorgeous from one year s end to another s in a to enjoy thoroughly one must himself into that dead and buried past for to day only the shadow of the mighty substance is left the young man had watched the litter of leaning from stately he saw that decay had fastened upon the of this glorious creature on whose breast he had been permitted too late to rest his head to appreciate he must forget the present the morning hour just before the sun comes out of the is the best time for this the grand canal is some hundreds of feet in width during the major part of its course the streets are seldom more than twenty when an hour had passed and the sun was peeping over the rosy tints of the east the passenger lifted a hand without turning in his seat and intimated that he would vary his course by entering one of the side streams he nodded still without turning when the said in an tone they understood each other very well and with a sweep of the long oar that bore no apparent relation to the effect it gave the italian turned his in the direction indicated and with another sent his between the high of buildings that bordered the the light on the outer world had little effect as yet on these secluded passages the undisturbed quality of the voyage was if anything improved by the change so little prospect was there of another approaching from the opposite direction that s forgot to utter his usual cry at the doubtful corners love gone astray the that seemed to offer a succession of impossible turns for the long craft proved equal to its passage in the of the whose art was little less than he found plenty of room where none was visible not even the walls with either end of his boat and all without the least apparent effort if anything was needed to make the young american certain he had passed from earth to the magic perfection of these difficult passages under numerous little arched bridges he floated and when at last he emerged upon the grand canal he uttered the word he had heard and was immediately rowed again into a succession of the minor ones finally the march of the early morning began to have its effect in various ways through windows women could be seen preparing other came toward the from which passengers might be expected market boats loaded high with the brightest potatoes and fruit appeared young people were seen as the public squares were passed going to labor beggars thought it not too early to their trade the most flourishing and perhaps the most in shutters were taken down from dingy shops and goods arranged to the expected customer services in the churches of which the city more than a hundred attracted those who had the time and inclination for them the city was awakening gray s beautiful dream was being spoiled he roused himself with impatience for he would have preferred that m a the reverie had gone on for some hours longer the morning had been slightly chilly for the date was late in october but the warmly dressed youth had experienced no discomfort the was now mounting slowly but surely and the less fortunate who had no means to purchase fuel were crawling out into the sunshine like a species of there were months before them of colder nights than these and they had not yet begun to the very poor are your true and the more ignorant of these people knew though they might not have been able to put it into words that what must be must be somewhat gray to his that he would return to the waters of the grand canal if was indeed awake she would look better he thought from that point the main street of the city repaid him for the change in the glowing colors reflected from her palace walls as the of the sun came in contact with the shades that art and time have combined to render lovely other foreigners were out now as well as himself taking what they thought a very early view of the city he marked the various types of and looked rather longer than was quite polite at a party of young girls by a sour faced and elderly female that they were english he made sure by the glowing color of their cheeks as well as by the peculiar fashion of their hair and the of their then his attention was attracted by an italian girl hardly more than fifteen years of age who the forward oar in a boat that transported love gone astray baskets of coal from one of the to the shore the girl was strikingly pretty with the dark hair and eyes of her race and there was a freedom in the way she moved her arms that would have given pleasure to a painter she apparently boasted but one garment a printed gown that came only to her knees and was loosely fastened at the breast the lower portion of her brown legs was entirely uncovered|\n",
      "|1     |and the skirt blew in perfect freedom about the upper parts she wore no hat and her hair hung in a careless to the level of her waist the girl returned s interested look finding him quite as well worth noting as he found her and they were apparently trying to decide which should the other when a short crisp word from the master of her boat called her attention to her work with a farewell glance that expressed regret as plainly as any formed sentence the child bent her young energies with strength to the oar and did not look again in gray s direction how pretty these italian girls always are he murmured to himself and why is it that they grow so soon into ugly wrinkled sallow faced old does nature punish them for having taken more than their share in infancy to think this will look thirty years from now like that who waits on the ready to a from me if i carry out my purpose of landing on her territory at the risk of paying the tribute however the american to his that he wished to reach the shore and a few moments later he stood in a upon the marble steps that face the pillars after settling in a more than liberal way with the and seeing the shrug of dissatisfaction that of all nations are wont to use no matter what they are paid he put a silver piece of small value into the woman s outstretched hand and turned to see if the pretty child in the coal boat had disappeared from view there she was pushing with all her strength at her oar her face turned from him the print gown blowing about her legs having forgotten already no doubt that such a young man as he existed slightly he took a few steps up the walk turned to look at her again and then dismissed her from his mind though there was at least five years ee in their ages it would have been a pleasure had he found her stealing a covert glance in his direction such are the sentiments of a young fellow of twenty more often than one might think and there was nothing in this hero of ours to take him out of the common in this particular the three hours that he had been out of bed made gray quite ready for a cup of coffee and a roll even though so much of the time had been spent in dreaming as he walked briskly toward the he saw that a pall of clouds hung over the city broken here and there by the rising sun as if the elements were in clothes for which they had no use all at once young gray s eyes encountered an object that took his attention from the and brought it to the earth at his feet lying at the base of the column that bears upon its summit love gone the bearded lion of st mark was a man of but little more than his own age dressed in garments that showed him to be no native of and that also indicated the of his being in the habit of selecting the pavement for his bed the figure was in a very deep slumber and the face so covered by one of the arms the other being used as a that the features could not be distinguished paused and gazed for some minutes at the form not willing to leave it there and yet uncertain whether he had either the right or the inclination to disturb a sleep that whatever else might be said of it was apparently refreshing and grateful to its owner several paused to join the and then went their ways with a laugh a cloud of flew over from the and alighted near him in expectation of a handful of corn to be had of at three cents a half gray bought some grain and took up the time in scattering it on the ground it gave him an excuse for staying in the neighborhood the story of the came into his head and he was neither a priest nor a if the man on the stones needed any little help he would be glad to give it to him it was not likely he had selected that hard bed from choice still had a hesitation about interfering with the business of other people perhaps he would be not only but insulted if he took this by the arm and shook him into an idea occurred as the of what he was doing he could let the awake the in a and it would then be easy to see whether anything further was advisable scattering the slowly gray saw the birds it as as if they and their ancestors had not been fed for more than a thousand years within a hundred feet of that spot stray that he threw lit upon the coat and then upon the hat of the bringing the without delay to the same with the that centuries have bred in these of presently a dozen of the things were perched upon the figure of the prostrate man for every grain that could be found and still he slept on it was only when one of the birds flying from above lit on the rim of the soft hat and came with a great flapping of wings into his very face that the turned and made an involuntary motion to brush away the the removal of the protecting arm allowed the sunlight to fall upon his eyelids and the awakening that had taken so long was accomplished a h h he muttered rousing himself into a sitting posture and stretching his stiff limbs after making which remark he sat up and with his back against the column of st mark looked around the palace of the the church                                                                                                                                                                                                                                                                                                                                                     |\n",
      "|1     |of san and the rows of shops opposite impressed themselves upon his vision then the and last of all young mr gray a h h he said again he reached his hand toward a pocket of his and finding neither watch nor chain there he said love gone astray ah for the third time and began to get upon his feet what time is it he asked yawning and gray delighted that the conversation had thus begun responded that it was between seven and eight o clock the man spoke english and was apparently a native of the british eight o clock he replied why it was after ten when he paused and contracted his eyebrows confound it i believe i ve slept here all night this looked so probable that the person to whom it was addressed only answered witli a smiling nod he had sized up the rapidly during the last minute the movement toward the watch that had disappeared told its own story hard luck of some kind had caused the owner of the to part with it the clothes of the were of good cut and they had not suffered seriously from contact with a dry and reasonably clean pavement he brushed off the dust with care and then stretched himself again if you will excuse the liberty in a stranger said gray i was just going to get some coffee would you like to accompany me the englishman cast a quick look of suspicion at the speaker and then tried to conceal his action i suppose i am a curiosity to you said he and such i must at least for the present remain it would be folly to pretend that i selected this place for my nap on account of its comfort it in a was merely a matter of i did not have a in my pocket i could not my watch or chain or diamond pin or rings because i had none my very linen is held as security for rent i cannot pay with these statements i leave you to say whether you still wish my company or whether you would rather hand me a as yon would to any other and let me go all the generosity in gray s heart forbade the acceptance of the latter proposition the man had told him nothing but what he already suspected he replied quick y that his invitation still held good and that he trusted all disagreeable subjects would be banished from the slight refreshment of which they were to partake very well was the reply as they walked along toward s i will go with pleasure all the greater as it is twenty four hours since i tasted food to the exclamation which greeted this announcement the stranger added oh that is nothing if i were at liberty to tell you let me say only this i have been robbed my enemies have me and as you see they have left me in a rather disagreeable plight but my courage is still good and when my turn comes i shall pay them back with interest what may i call you asked handing his new acquaintance his card as they seated them selves at one of the tables i shall have to refuse you my true name for the present was the reply i am but for the purpose of conversation you may call me mr mr william love gone astray chapter ii the strange mr mr william the in the square by the with which he devoured the light meal that was soon before him he was finishing the second cup of coffee he had poured from the generous pot and on his third roll when an idea occurred to mr gray would you mind he said if i ordered some eggs for you along with my own i am not yet used to continental and find need of something rather more substantial between morning and noon mr laughed i should certainly like the eggs he answered and for the sake of them will pardon the of your invitation ask the waiter to make it three if you please eating once a day has its but it certainly to a healthy appetite the manner in which the stranger received his new friend s advances made it easy to get on comfortable terms with him and the that had crept into s manner rapidly disappeared you are an early it seems commented when there came a suitable point into which to throw the remark i was in a at four o clock replied gray with a blush partly of pride the strange mb indeed and what did you want at that hour only to see in her greatest quiet and then he went on somewhat to give the impressions he had formed before the sun rose and warming as he proceeded detailed the sights and sounds of that half journey it was clear that this was a to which mr could not respond he laughed a little from time to time and shook his head as if to say he saw no pleasure in that kind of a trip quite but with no attempt to sacrifice truth to politeness you are evidently a he said i suppose you read and and that sort of thing i them was the enthusiastic reply and do you write verses yourself asked no it almost seems as if i could though i feel all a poet s without confidence enough to express it i think there is no place so poetic as these watery streets anywhere on the globe mr responded that he had found the streets of very wet and the a slow and unsatisfactory vehicle even when he had money in his purse he said it took an time to get one of those silly when he had not a and his course led up and down over the flights of stairs called bridges                                                                                                                                                                                                                                                                                                                                               |\n",
      "|1     |an hour s walk was as tiresome as three in a sensible english town v but the skies remarked gray with enthusiasm love gone astray have you ever seen such beauty in the of sea and air as there is at sunset i thought before i came here that the painters had drawn on their but they do not half the reality and in the evening when the singing parties go out on the water what a soul stirring effect they produce i had rather hear one of these of accompanied by their and than the best opera in one of our home theatres with a hundred picked in the would you really asked mr who seemed to find the statement most astonishing he said he had heard some of the singing from a distance and had not taken the trouble to go nearer as for the sky he had not even noticed it except to on the probability of rain but what do you find worth seeing and hearing in then demanded gray nothing whatever was the calm reply i assure you i did not come here for any of the poetic reasons you mention nor shall i remain a day longer than is necessary i was to by a business affair which has turned out as you may guess very badly i must remain as far as i can see till funds arrive unless some trusting individual wants to let me have a hundred with which to reach rome the suggestion was sufficiently pointed and gray was glad it had been in that direct manner he wanted to aid this distressed young gentleman and he had not known how to press a loan upon him without danger of giving when he heard the sum of one hundred mentioned he bright the mb immediately and said it would please him to lend the amount himself or twice as much if equally agreeable we shall not quarrel even over the latter proposition smiled if you can spare the money it is liable to come in conveniently before i hear from my people to get to rome to morrow will be of great value to the business i have in hand and a few extra in the pocket is not a bad thing when one is hundreds of miles from his natural base of supplies mr gray promptly placed two notes for a hundred or rather each on the table and suggested that as a train started toward rome within an hour he would not detain his acquaintance over any but laughed folding up the notes i can t go till to morrow for a very good reason all my linen requires and even the quick will need twenty four hours time to go to rome witli soiled and is not to be thought of we are such slaves to these foolish customs no gentleman is strong enough to brave the which that he must wear a shirt i will leave you as you suggest but only for the sake of putting my in communication with a being now able to satisfy the claims of my landlord i shall be allowed i presume to remain in my room to night instead of resting at the foot of st mark s statue and tomorrow in all the glory of a clean and polished boots i will make a descent upon rome which love gone astray i hope will be as effective if not as as that of the more ancient gray was sorry to have the important business that evidently awaited mr postponed so long but he saw no way to the points raised and after going with him as far as the he bade him farewell it is certainly more blessed to give than to receive mr gray felt all the happiness of one who has relieved distress at no real cost to his own comfort it was as easy for him to lend those two hundred as to feed the in the with the little of corn that cost three cents american money each and the result was so pleasant he wondered as he strolled back to his hotel on the grand canal why such a fuss was made over charity and why the least suffering was allowed to exist that evening he walked for some time in the the marble palaces that form three sides of the square were filled with a brilliant throng moving to and fro or sitting in front of the attending to the wants of the inner man from the coffee rooms bright faces beamed upon the spectacle over st mark s church the remnant of a broken moon hung in glory in the deep surrounded by a train of stars faintly to the right the palace of beautiful in its grace took on the tints of the numerous lights while the giant always a blot upon tjie of the surroundings rose coarse and powerful to dwarf all other near the strange mb a hundred were beyond the pillars each one casting a shadow as black as itself upon the blue on which it rode of passed wearing the one always finds in this minor of the east no one was still for a moment out of the the crowds came and into it other crowds returned movement movement it was all so adapted to time and place a touch more of light would have ruined everything gray knew that he stood in the human centre of all that s to the ear and eye when the crowd finally dispersed gray did not find himself inclined to go indoors he went to look at the bay again and finally engaged a to row him out toward the as the was engaged by the hour it made no difference to him that his passenger had no particular destination indeed it was rather pleasing to find in the course of time that the american was fast asleep                                                                                                                                                                                                                                                                                                                                                           |\n",
      "+------+----------------------------------------------------------------------------------------------------------------------------------------------------------------------------------------------------------------------------------------------------------------------------------------------------------------------------------------------------------------------------------------------------------------------------------------------------------------------------------------------------------------------------------------------------------------------------------------------------------------------------------------------------------------------------------------------------------------------------------------------------------------------------------------------------------------------------------------------------------------------------------------------------------------------------------------------------------------------------------------------------------------------------------------------------------------------------------------------------------------------------------------------------------------------------------------------------------------------------------------------------------------------------------------------------------------------------------------------------------------------------------------------------------------------------------------------------------------------------------------------------------------------------------------------------------------------------------------------------------------------------------------------------------------------------------------------------------------------------------------------------------------------------------------------------------------------------------------------------------------------------------------------------------------------------------------------------------------------------------------------------------------------------------------------------------------------------------------------------------------------------------------------------------------------------------------------------------------------------------------------------------------------------------------------------------------------------------------------------------------------------------------------------------------------------------------------------------------------------------------------------------------------------------------------------------------------------------------------------------------------------------------------------------------------------------------------------------------------------------------------------------------------------------------------------------------------------------------------------------------------------------------------------------------------------------------------------------------------------------------------------------------------------------------------------------------------------------------------------------------------------------------------------------------------------------------------------------------------------------------------------------------------------------------------------------------------------------------------------------------------------------------------------------------------------------------------------------------------------------------------------------------------------------------------------------------------------------------------------------------------------------------------------------------------------------------------------------------------------------------------------------------------------------------------------------------------------------------------------------------------------------------------------------------------------------------------------------------------------------------------------------------------------------------------------------------------------------------------------------------------------------------------------------------------------------------------------------------------------------------------------------------------------------------------------------------------------------------------------------------------------------------------------------------------------------------------------------------------------------------------------------------------------------------------------------------------------------------------------------------------------------------------------------------------------------------------------------------------------------------------------------------------------------------------------------------------------------------------------------------------------------------------------------------------------------------------------------------------------------------------------------------------------------------------------------------------------------------------------------------------------------------------------------------------------------------------------------------------------------------------------------------------------------------------------------------------------------------------------------------------------------------------------------------------------------------------------------------------------------------------------------------------------------------------------------------------------------------+\n",
      "only showing top 5 rows\n"
     ]
    },
    {
     "name": "stderr",
     "output_type": "stream",
     "text": [
      "                                                                                "
     ]
    }
   ],
   "source": [
    "df_clean.select(\"author\", \"clean_text\").show(5, truncate=False)# tha five first cleaned text\n"
   ]
  },
  {
   "cell_type": "code",
   "execution_count": 17,
   "id": "9e0411c9-65d3-43c7-a325-c9132d08abd1",
   "metadata": {},
   "outputs": [],
   "source": [
    "from pyspark.sql.functions import lower, regexp_replace, trim\n",
    "\n",
    "df_clean = df_spark.withColumn(\"clean_text\",\n",
    "    trim(regexp_replace(\n",
    "        regexp_replace(lower(df_spark[\"text\"]), r\"[^\\w\\s]\", \"\"), r\"\\d+\", \"\"\n",
    "    ))\n",
    ")\n"
   ]
  },
  {
   "cell_type": "code",
   "execution_count": 18,
   "id": "c32d51b7-a733-4a93-b0fe-1f82bc6e23a2",
   "metadata": {},
   "outputs": [
    {
     "name": "stderr",
     "output_type": "stream",
     "text": [
      "                                                                                "
     ]
    }
   ],
   "source": [
    "df_pd = df_clean.select(\"clean_text\", \"author\").toPandas() #Converting the new cleaned dataset into panda\n",
    "texts = df_pd[\"clean_text\"].astype(str).tolist()\n",
    "labels = df_pd[\"author\"].astype(str).tolist()\n"
   ]
  },
  {
   "cell_type": "code",
   "execution_count": null,
   "id": "f6adc2ce-f880-4315-9384-59b19058518c",
   "metadata": {},
   "outputs": [],
   "source": []
  },
  {
   "cell_type": "code",
   "execution_count": 19,
   "id": "c75887f5-dd4e-4122-92a6-b71c31cd3af9",
   "metadata": {},
   "outputs": [],
   "source": [
    "\n",
    "from tensorflow.keras.preprocessing.text import Tokenizer\n",
    "from tensorflow.keras.preprocessing.sequence import pad_sequences\n",
    "\n",
    "vocab_size = 10000\n",
    "max_length = 200\n",
    "\n",
    "tokenizer = Tokenizer(num_words=vocab_size, oov_token=\"<OOV>\")\n",
    "tokenizer.fit_on_texts(texts)\n",
    "sequences = tokenizer.texts_to_sequences(texts)\n",
    "X = pad_sequences(sequences, maxlen=max_length, padding='post', truncating='post')\n"
   ]
  },
  {
   "cell_type": "code",
   "execution_count": 20,
   "id": "6484f8c7-304b-4dc0-b692-a673f19de2ee",
   "metadata": {},
   "outputs": [],
   "source": [
    "from sklearn.preprocessing import LabelEncoder\n",
    "\n",
    "label_encoder = LabelEncoder()\n",
    "y = label_encoder.fit_transform(labels)  # ← This creates the missing y\n",
    "num_classes = len(label_encoder.classes_)\n"
   ]
  },
  {
   "cell_type": "code",
   "execution_count": 28,
   "id": "b12c70fb-8481-4925-b846-64607a850167",
   "metadata": {},
   "outputs": [],
   "source": [
    "from tensorflow.keras.metrics import SparseTopKCategoricalAccuracy\n",
    "\n",
    "model.compile(\n",
    "    optimizer='adam',\n",
    "    loss='sparse_categorical_crossentropy',\n",
    "    metrics=[\n",
    "        'accuracy',\n",
    "        SparseTopKCategoricalAccuracy(k=3, name='top_3_accuracy')\n",
    "    ]\n",
    ")\n"
   ]
  },
  {
   "cell_type": "markdown",
   "id": "4e3a39dd-6dd9-48ed-9b83-b7eaddce77a0",
   "metadata": {},
   "source": [
    "## Split the data ##"
   ]
  },
  {
   "cell_type": "markdown",
   "id": "6a0c21a7-0bba-462d-a4e6-522a02a50902",
   "metadata": {},
   "source": [
    "Splitting the data into training sets and validation sets is essential to train the data"
   ]
  },
  {
   "cell_type": "code",
   "execution_count": 29,
   "id": "758b49c8-3d07-445c-94c7-1109f91b172a",
   "metadata": {},
   "outputs": [],
   "source": [
    "from sklearn.model_selection import train_test_split\n",
    "\n",
    "X_train, X_val, y_train, y_val = train_test_split(\n",
    "    X, y, test_size=0.2, random_state=42, stratify=y\n",
    ")\n"
   ]
  },
  {
   "cell_type": "markdown",
   "id": "f1c0aec8-e7c7-4678-8879-331f3c8f48ae",
   "metadata": {},
   "source": [
    "## Train Model ##"
   ]
  },
  {
   "cell_type": "markdown",
   "id": "2a8af198-7032-4e35-8016-ade50e4a52de",
   "metadata": {},
   "source": [
    "In this step, is start to build a  Bidirectional LSTM neural network for multi-class text. It captures long-range dependencies in text using LSTM. Bidirectional layers allow the model to understand context from both directions. Dropout and batch normalization help prevent overfitting, which is common in text classification."
   ]
  },
  {
   "cell_type": "code",
   "execution_count": 30,
   "id": "7fdb2164-86bb-469b-81ec-230e00fb2478",
   "metadata": {},
   "outputs": [],
   "source": [
    "from tensorflow.keras.models import Sequential\n",
    "from tensorflow.keras.layers import Embedding, LSTM, Bidirectional, Dropout, Dense, BatchNormalization\n",
    "\n",
    "model = Sequential([\n",
    "    Embedding(input_dim=vocab_size, output_dim=128),\n",
    "    Bidirectional(LSTM(64, return_sequences=True, dropout=0.3, recurrent_dropout=0.3)),\n",
    "    BatchNormalization(),\n",
    "    Bidirectional(LSTM(64, dropout=0.3, recurrent_dropout=0.3)),\n",
    "    Dropout(0.5),\n",
    "    Dense(64, activation='relu'),\n",
    "    Dropout(0.3),\n",
    "    Dense(num_classes, activation='softmax')\n",
    "])\n"
   ]
  },
  {
   "cell_type": "markdown",
   "id": "d3c1acf2-50e0-4970-bd81-b479e8b487f3",
   "metadata": {},
   "source": [
    "From tensorflow.keras.callbacks import EarlyStopping, prevent overfitting by stopping epochs training when it achieves the best validation accuracy,save time and computer resources. \n"
   ]
  },
  {
   "cell_type": "code",
   "execution_count": 31,
   "id": "a7e6c3be-6a3d-489c-9d17-1cef9b536762",
   "metadata": {},
   "outputs": [],
   "source": [
    "from tensorflow.keras.callbacks import EarlyStopping\n",
    "\n",
    "early_stop = EarlyStopping(\n",
    "    monitor='val_loss',       #  monitor 'val_accuracy'\n",
    "    patience=3,               #\n",
    "    restore_best_weights=True\n",
    ")\n"
   ]
  },
  {
   "cell_type": "markdown",
   "id": "70399314-e9e4-4156-83f3-ba81bff5ea50",
   "metadata": {},
   "source": [
    "Ensures the loss function penalizes misclassification of minority classes more, improving balanced accuracy."
   ]
  },
  {
   "cell_type": "code",
   "execution_count": 32,
   "id": "47b96481-320a-46dc-bc9a-41254e17a1ed",
   "metadata": {},
   "outputs": [],
   "source": [
    "from sklearn.utils.class_weight import compute_class_weight\n",
    "import numpy as np\n",
    "\n",
    "# Assuming y_train is integer-encoded\n",
    "class_weights = compute_class_weight(\n",
    "    class_weight='balanced',\n",
    "    classes=np.unique(y_train),\n",
    "    y=y_train\n",
    ")\n",
    "\n",
    "class_weight_dict = dict(enumerate(class_weights))\n"
   ]
  },
  {
   "cell_type": "code",
   "execution_count": 33,
   "id": "1f641074-67eb-4d7d-a0c6-5a88211b6a19",
   "metadata": {},
   "outputs": [
    {
     "name": "stdout",
     "output_type": "stream",
     "text": [
      "y_train shape: (42942,)\n",
      "y_val shape: (10736,)\n"
     ]
    }
   ],
   "source": [
    "print(\"y_train shape:\", y_train.shape)#Checking the number of y-train and y-valalidation.\n",
    "print(\"y_val shape:\", y_val.shape)\n"
   ]
  },
  {
   "cell_type": "raw",
   "id": "c4dd52d2-56c3-40e2-8e2e-848e70641084",
   "metadata": {},
   "source": []
  },
  {
   "cell_type": "markdown",
   "id": "121f1083-4640-470e-bf79-46ac8beb1edf",
   "metadata": {},
   "source": [
    "Model-compile:Compile the LSTM model and let it be ready to be trained"
   ]
  },
  {
   "cell_type": "code",
   "execution_count": 35,
   "id": "04e0cb4a-8fe4-49b0-b813-9598988659ed",
   "metadata": {},
   "outputs": [],
   "source": [
    "model.compile(\n",
    "    optimizer='adam',\n",
    "    loss='sparse_categorical_crossentropy',  \n",
    "    metrics=['accuracy']\n",
    ")\n"
   ]
  },
  {
   "cell_type": "markdown",
   "id": "802ed3c9-43b1-4861-97c4-efe1061ef2cd",
   "metadata": {},
   "source": [
    "The model will be trained for up to 10 epochs. The main objective is to observe how the model’s performance evolves across epochs. All hyperparameters, including early stopping and class weights, are already set to ensure the model trains effectively without risking overfitting.\n",
    "Early stops monitor validation loss and stop training if no improvement is observed for a few consecutive epochs, restoring the best model weights. Class weights ensure that authors with fewer samples are not ignored, allowing the model to learn balanced representations for all classes. This setup ensures the model trains efficiently and avoids overfitting. The model achieves  0.45, which is significant for  50-author prediction."
   ]
  },
  {
   "cell_type": "code",
   "execution_count": 43,
   "id": "93ee9de6-0936-4c02-90b3-16042245937d",
   "metadata": {},
   "outputs": [
    {
     "name": "stdout",
     "output_type": "stream",
     "text": [
      "Epoch 1/10\n",
      "336/336 - 400s - 1s/step - accuracy: 0.3799 - loss: 2.1831 - val_accuracy: 0.3680 - val_loss: 2.2747\n",
      "Epoch 2/10\n",
      "336/336 - 360s - 1s/step - accuracy: 0.3880 - loss: 2.1405 - val_accuracy: 0.3709 - val_loss: 2.3136\n",
      "Epoch 3/10\n",
      "336/336 - 364s - 1s/step - accuracy: 0.4055 - loss: 2.0705 - val_accuracy: 0.3708 - val_loss: 2.3090\n",
      "Epoch 4/10\n",
      "336/336 - 364s - 1s/step - accuracy: 0.4175 - loss: 2.0205 - val_accuracy: 0.3905 - val_loss: 2.2170\n",
      "Epoch 5/10\n",
      "336/336 - 386s - 1s/step - accuracy: 0.4313 - loss: 1.9697 - val_accuracy: 0.4019 - val_loss: 2.2203\n",
      "Epoch 6/10\n",
      "336/336 - 396s - 1s/step - accuracy: 0.4443 - loss: 1.9279 - val_accuracy: 0.4147 - val_loss: 2.1415\n",
      "Epoch 7/10\n",
      "336/336 - 407s - 1s/step - accuracy: 0.4626 - loss: 1.8689 - val_accuracy: 0.4300 - val_loss: 2.1589\n",
      "Epoch 8/10\n",
      "336/336 - 439s - 1s/step - accuracy: 0.4743 - loss: 1.8237 - val_accuracy: 0.4346 - val_loss: 2.1568\n",
      "Epoch 9/10\n",
      "336/336 - 458s - 1s/step - accuracy: 0.4853 - loss: 1.7721 - val_accuracy: 0.4389 - val_loss: 2.1015\n",
      "Epoch 10/10\n",
      "336/336 - 420s - 1s/step - accuracy: 0.4999 - loss: 1.7245 - val_accuracy: 0.4502 - val_loss: 2.1299\n"
     ]
    }
   ],
   "source": [
    "  history = model.fit(\n",
    "    X_train, y_train,\n",
    "    validation_data=(X_val, y_val),\n",
    "    epochs=10,\n",
    "    batch_size=128,\n",
    "    callbacks=[early_stop],\n",
    "    verbose=2\n",
    ")\n"
   ]
  },
  {
   "cell_type": "code",
   "execution_count": 44,
   "id": "79c43596-2205-4120-a289-569742ff2201",
   "metadata": {},
   "outputs": [],
   "source": [
    "model.save(\"author_model_final.keras\")# saving the model\n"
   ]
  },
  {
   "cell_type": "code",
   "execution_count": 45,
   "id": "4a6d832a-b674-44dc-b8e3-38b342753dda",
   "metadata": {},
   "outputs": [],
   "source": [
    "import pickle\n",
    "\n",
    "with open(\"tokenizer.pkl\", \"wb\") as f:\n",
    "    pickle.dump(tokenizer, f)\n",
    "\n",
    "with open(\"label_encoder.pkl\", \"wb\") as f:\n",
    "    pickle.dump(label_encoder, f)\n"
   ]
  },
  {
   "cell_type": "markdown",
   "id": "b3697ca7-b602-4a9f-9465-9f8369c3dc21",
   "metadata": {},
   "source": [
    "## Plot ##"
   ]
  },
  {
   "cell_type": "markdown",
   "id": "90a5601f-6494-455c-b65c-75da914fda1b",
   "metadata": {},
   "source": [
    "The training history to learning curve: \n",
    "- Left subplot. Model Accuracy Curve – shows how training and validation accuracy change over epochs.\n",
    "- Right subplot: Model Loss Curve – shows how training and validation loss change over epochs.\n",
    "So together, they are referred to as learning curves, which are commonly used to visualize model performance and check for overfitting or underfitting."
   ]
  },
  {
   "cell_type": "code",
   "execution_count": 46,
   "id": "c9705f37-5995-43bc-8511-87caea4cf3c2",
   "metadata": {},
   "outputs": [
    {
     "data": {
      "image/png": "[encoded data removed]",
      "text/plain": [
       "<Figure size 1200x500 with 2 Axes>"
      ]
     },
     "metadata": {},
     "output_type": "display_data"
    }
   ],
   "source": [
    "import matplotlib.pyplot as plt\n",
    "\n",
    "# Accuracy plot\n",
    "plt.figure(figsize=(12, 5))\n",
    "plt.subplot(1, 2, 1)\n",
    "plt.plot(history.history['accuracy'], label='Train Accuracy')\n",
    "plt.plot(history.history['val_accuracy'], label='Val Accuracy')\n",
    "plt.title('Model Accuracy')\n",
    "plt.xlabel('Epoch')\n",
    "plt.ylabel('Accuracy')\n",
    "plt.legend()\n",
    "\n",
    "# Loss plot\n",
    "plt.subplot(1, 2, 2)\n",
    "plt.plot(history.history['loss'], label='Train Loss')\n",
    "plt.plot(history.history['val_loss'], label='Val Loss')\n",
    "plt.title('Model Loss')\n",
    "plt.xlabel('Epoch')\n",
    "plt.ylabel('Loss')\n",
    "plt.legend()\n",
    "\n",
    "plt.tight_layout()\n",
    "plt.show()\n"
   ]
  },
  {
   "cell_type": "markdown",
   "id": "5cb08829-c6ab-4cb3-809b-3e9fc897e7b5",
   "metadata": {},
   "source": [
    "## Evaluate Model ##"
   ]
  },
  {
   "cell_type": "markdown",
   "id": "a4f76010-8c8c-4237-946d-7e554015325f",
   "metadata": {},
   "source": [
    "Here is the step to evaluate the trained model on the validation set and print the results:\n",
    "\n",
    "  -Provides a quantitative measure of how well your model performs on unseen data. \n",
    "  \n",
    "  -Combined with learning curves, it helps you assess overfitting or underfitting."
   ]
  },
  {
   "cell_type": "code",
   "execution_count": 52,
   "id": "1fb0236e-2325-410a-bd64-334c1765dc2a",
   "metadata": {},
   "outputs": [
    {
     "name": "stdout",
     "output_type": "stream",
     "text": [
      "Validation Accuracy: 0.4389\n",
      "Validation Loss: 2.1015\n"
     ]
    }
   ],
   "source": [
    "val_loss, val_accuracy = model.evaluate(X_val, y_val, verbose=0)\n",
    "print(f\"Validation Accuracy: {val_accuracy:.4f}\")\n",
    "print(f\"Validation Loss: {val_loss:.4f}\")\n"
   ]
  },
  {
   "cell_type": "markdown",
   "id": "df6180bf-e63a-403f-9e6b-a4d8daf8aee4",
   "metadata": {},
   "source": [
    "## Confusion Matrix ##"
   ]
  },
  {
   "cell_type": "markdown",
   "id": "4237d481-3d87-4261-99d7-ce0a95e853dc",
   "metadata": {},
   "source": [
    "This code creates a normalized confusion matrix heatmap for your validation predictions, which is very useful for evaluating multi-class classification performance.\n",
    "\n",
    "Helps identify which authors are commonly confused by the model.\n",
    "\n",
    "Normalization allows you to compare performance across authors fairly.\n",
    "\n",
    "Visualizes model strengths and weaknesses in a multi-class setting."
   ]
  },
  {
   "cell_type": "code",
   "execution_count": 63,
   "id": "b1def6c7-e803-4f05-b2dc-9c2561a5ac3b",
   "metadata": {},
   "outputs": [
    {
     "name": "stdout",
     "output_type": "stream",
     "text": [
      "\u001b[1m336/336\u001b[0m \u001b[32m━━━━━━━━━━━━━━━━━━━━\u001b[0m\u001b[37m\u001b[0m \u001b[1m39s\u001b[0m 115ms/step\n"
     ]
    },
    {
     "data": {
      "image/png": "[encoded data removed]",
      "text/plain": [
       "<Figure size 1400x1200 with 2 Axes>"
      ]
     },
     "metadata": {},
     "output_type": "display_data"
    }
   ],
   "source": [
    "import seaborn as sns\n",
    "import matplotlib.pyplot as plt\n",
    "from sklearn.metrics import confusion_matrix\n",
    "\n",
    "# Predict classes\n",
    "y_pred = model.predict(X_val)\n",
    "y_pred_classes = y_pred.argmax(axis=1)\n",
    "\n",
    "# Confusion matrix\n",
    "cm = confusion_matrix(y_val, y_pred_classes)\n",
    "\n",
    "# Normalize by row (true author)\n",
    "cm_normalized = cm.astype('float') / cm.sum(axis=1)[:, np.newaxis]\n",
    "\n",
    "# Plot heatmap\n",
    "plt.figure(figsize=(14, 12))\n",
    "sns.heatmap(cm_normalized, cmap='YlOrBr', xticklabels=label_encoder.classes_,\n",
    "            yticklabels=label_encoder.classes_, annot=False, fmt='.2f',\n",
    "            linewidths=0.5, linecolor='white')\n",
    "\n",
    "plt.xlabel(\"Predicted Author\")\n",
    "plt.ylabel(\"True Author\")\n",
    "plt.title(\"Normalized Confusion Matrix\")\n",
    "plt.xticks(rotation=90)\n",
    "plt.yticks(rotation=0)\n",
    "plt.tight_layout()\n",
    "plt.show()\n"
   ]
  },
  {
   "cell_type": "markdown",
   "id": "c7a75333-8c59-4cdb-971e-93192ec24748",
   "metadata": {},
   "source": [
    "## Prediction(Second Dataset) ##"
   ]
  },
  {
   "cell_type": "markdown",
   "id": "186eef1e-0d82-4d1d-90c5-1fcf23e8c18f",
   "metadata": {},
   "source": [
    "In this second part of the analysis, the focus is on predicting the author's name and code. Two datasets were used because the first dataset is labelled, but it is not fully suitable for author prediction. However, the same file also contains a text-only dataset, which is perfect for this task."
   ]
  },
  {
   "cell_type": "code",
   "execution_count": 104,
   "id": "779c3a69-6f0b-4643-8c53-bc84eb007cc4",
   "metadata": {},
   "outputs": [
    {
     "name": "stderr",
     "output_type": "stream",
     "text": [
      "                                                                                "
     ]
    },
    {
     "name": "stdout",
     "output_type": "stream",
     "text": [
      "+--------------------+\n",
      "|                text|\n",
      "+--------------------+\n",
      "|nt it seems te me...|\n",
      "|to talk about why...|\n",
      "|my foot on the gr...|\n",
      "|hour or wait for ...|\n",
      "|will not listen t...|\n",
      "+--------------------+\n",
      "only showing top 5 rows\n"
     ]
    }
   ],
   "source": [
    "df = spark.read.csv(\"Gungor_2018_VictorianteText_data.csv\", header=True, inferSchema=True)#loading the data, and the 5 first rows.\n",
    "texts = df_clean.select(\"text\").toPandas()[\"text\"].tolist()\n",
    "\n",
    "df.show(5)\n",
    "\n"
   ]
  },
  {
   "cell_type": "code",
   "execution_count": 105,
   "id": "f57a3a26-993c-4a08-8036-e1a55146dc60",
   "metadata": {},
   "outputs": [],
   "source": [
    "max_seq_len = 200 #maximum sequence length for your text sequences before feeding them into the LSTM\n"
   ]
  },
  {
   "cell_type": "code",
   "execution_count": 106,
   "id": "3c6212cb-6a17-4ad1-adad-0348b50b824b",
   "metadata": {},
   "outputs": [],
   "source": [
    "equences = tokenizer.texts_to_sequences(texts)\n",
    "padded = pad_sequences(sequences, maxlen=max_seq_len)\n"
   ]
  },
  {
   "cell_type": "code",
   "execution_count": 107,
   "id": "cc9f4c87-2d92-497b-a49f-fc05f483fe26",
   "metadata": {},
   "outputs": [
    {
     "name": "stdout",
     "output_type": "stream",
     "text": [
      "\u001b[1m1213/1213\u001b[0m \u001b[32m━━━━━━━━━━━━━━━━━━━━\u001b[0m\u001b[37m\u001b[0m \u001b[1m97s\u001b[0m 80ms/step\n"
     ]
    }
   ],
   "source": [
    "pred_probs = model.predict(padded)\n",
    "pred_classes = np.argmax(pred_probs, axis=1)\n",
    "decoded_authors = label_encoder.inverse_transform(pred_classes)\n"
   ]
  },
  {
   "cell_type": "markdown",
   "id": "1a2905c8-d09b-4913-a213-9cf7b9c9cc10",
   "metadata": {},
   "source": [
    "From  https://dataworks.indianapolis.iu.edu/handle/11243/23, I got the list of the 50 authors for better performance on the prediction. They are listed correctly, like in the  Raw data.\n"
   ]
  },
  {
   "cell_type": "code",
   "execution_count": 112,
   "id": "dd578daa-8f06-4586-a5a0-68b80d3c4207",
   "metadata": {},
   "outputs": [],
   "source": [
    "results_df = pd.DataFrame({\n",
    "    \"text\": list(texts),\n",
    "    \"predicted_author\": list(decoded_authors)\n",
    "})\n"
   ]
  },
  {
   "cell_type": "code",
   "execution_count": 113,
   "id": "85ee8cd7-04a2-4b84-ac15-e664218893b8",
   "metadata": {},
   "outputs": [],
   "source": [
    "id_to_author = {\n",
    "    0: \"Ada Cambridge\",\n",
    "    1: \"Amelia B. Edwards\",\n",
    "    2: \"Anthony Trollope\",\n",
    "    3: \"Arthur Conan Doyle\",\n",
    "    4: \"Benjamin Disraeli\",\n",
    "    5: \"Bram Stoker\",\n",
    "    6: \"Charles Dickens\",\n",
    "    7: \"Charles Kingsley\",\n",
    "    8: \"Charlotte Brontë\",\n",
    "    9: \"Dinah Craik\",\n",
    "    10: \"Edward Bulwer-Lytton\",\n",
    "    11: \"Elizabeth Gaskell\",\n",
    "    12: \"Ellen Wood\",\n",
    "    13: \"Emma Jane Worboise\",\n",
    "    14: \"Florence Marryat\",\n",
    "    15: \"Frances Hodgson Burnett\",\n",
    "    16: \"George Eliot\",\n",
    "    17: \"George Gissing\",\n",
    "    18: \"George MacDonald\",\n",
    "    19: \"George Meredith\",\n",
    "    20: \"Grant Allen\",\n",
    "    21: \"Hall Caine\",\n",
    "    22: \"H. Rider Haggard\",\n",
    "    23: \"Henry James\",\n",
    "    24: \"Henry Kingsley\",\n",
    "    25: \"James Payn\",\n",
    "    26: \"Jerome K. Jerome\",\n",
    "    27: \"John Galsworthy\",\n",
    "    28: \"John Morley\",\n",
    "    29: \"Joseph Conrad\",\n",
    "    30: \"Margaret Oliphant\",\n",
    "    31: \"Marie Corelli\",\n",
    "    32: \"Mary Elizabeth Braddon\",\n",
    "    33: \"Mrs. Humphry Ward\",\n",
    "    34: \"Ouida\",\n",
    "    35: \"Rhoda Broughton\",\n",
    "    36: \"Richard Doddridge Blackmore\",\n",
    "    37: \"Robert Louis Stevenson\",\n",
    "    38: \"Samuel Butler\",\n",
    "    39: \"Thomas Hardy\",\n",
    "    40: \"Thomas Hughes\",\n",
    "    41: \"Thomas Love Peacock\",\n",
    "    42: \"Walter Besant\",\n",
    "    43: \"Wilkie Collins\",\n",
    "    44: \"William Black\",\n",
    "    45: \"William Dean Howells\",\n",
    "    46: \"William Makepeace Thackeray\",\n",
    "    47: \"William Morris\",\n",
    "    48: \"William Wilkie Collins\",\n",
    "    49: \"W. Somerset Maugham\"\n",
    "}\n"
   ]
  },
  {
   "cell_type": "markdown",
   "id": "65f48459-1946-44ce-89d3-2da366b8053d",
   "metadata": {},
   "source": [
    "This is the main step of the analysis. Using the author list, it is possible to verify whether the prediction is correct by checking if the predicted ID number matches the corresponding author from the list."
   ]
  },
  {
   "cell_type": "code",
   "execution_count": 114,
   "id": "91fe0ece-6635-401a-8695-783c7f0ff60f",
   "metadata": {},
   "outputs": [
    {
     "name": "stdout",
     "output_type": "stream",
     "text": [
      "Anthony Trollope\n"
     ]
    }
   ],
   "source": [
    "id = 2\n",
    "author = id_to_author[id]\n",
    "print(author)  \n"
   ]
  },
  {
   "cell_type": "code",
   "execution_count": 111,
   "id": "28c43f2d-b8ab-49ec-a1ef-a12f0baf7565",
   "metadata": {},
   "outputs": [
    {
     "name": "stdout",
     "output_type": "stream",
     "text": [
      "38809\n",
      "38809\n"
     ]
    }
   ],
   "source": [
    "print(len(texts))            # Total number of texts\n",
    "print(len(decoded_authors))  # Number of predictions\n"
   ]
  },
  {
   "cell_type": "markdown",
   "id": "a2df4954-d5de-4fbe-b242-aa02651bb4d4",
   "metadata": {},
   "source": [
    "Another approach for prediction is to directly compare the predicted ID with the author list to determine the author name."
   ]
  },
  {
   "cell_type": "code",
   "execution_count": 125,
   "id": "379f3854-2418-4d6d-8c4e-e8dc1b06d26d",
   "metadata": {},
   "outputs": [
    {
     "name": "stdout",
     "output_type": "stream",
     "text": [
      "Text: nt it seems te me how much money is he worth and that within a reasonable margin i can tell you as f...\n",
      "Predicted Author: 10\n",
      "\n",
      "Text: to talk about why you heard of such a case as his in your life tell me all about it said mrs her cha...\n",
      "Predicted Author: 39\n",
      "\n",
      "Text: my foot on the ground and said i believe you did that on purpose you re quite right he replied i bro...\n",
      "Predicted Author: 38\n",
      "\n",
      "Text: hour or wait for miss oh wait for by all means said miss she can t be much later then she resumed to...\n",
      "Predicted Author: 43\n",
      "\n",
      "Text: will not listen to such words now go and remember he drove away and she went back he house no he cou...\n",
      "Predicted Author: 45\n",
      "\n"
     ]
    }
   ],
   "source": [
    "for i in range(5):\n",
    "    print(f\"Text: {texts[i][:100]}...\")\n",
    "    print(f\"Predicted Author: {decoded_authors[i]}\\n\")\n"
   ]
  },
  {
   "cell_type": "markdown",
   "id": "527bf7bb-93aa-46a8-95b0-3d86c413a2ad",
   "metadata": {},
   "source": [
    "This line of code counts the frequency of predicted authors and shows the top 10 most predicted authors"
   ]
  },
  {
   "cell_type": "code",
   "execution_count": 126,
   "id": "430a9648-7638-4198-9590-8f6105013c87",
   "metadata": {},
   "outputs": [],
   "source": [
    "import pandas as pd\n",
    "\n",
    "results_df = pd.DataFrame({\n",
    "    \"text\": texts,\n",
    "    \"predicted_author\": decoded_authors\n",
    "})\n",
    "results_df.to_csv(\"second_dataset_predictions.csv\", index=False)\n"
   ]
  },
  {
   "cell_type": "code",
   "execution_count": 127,
   "id": "0e4f7492-7384-436c-bffd-5ee830a16ef6",
   "metadata": {},
   "outputs": [
    {
     "data": {
      "text/plain": [
       "37    5457\n",
       "8     3959\n",
       "45    3106\n",
       "33    2885\n",
       "18    2395\n",
       "39    2190\n",
       "48    1997\n",
       "26    1950\n",
       "30    1818\n",
       "14    1537\n",
       "Name: count, dtype: int64"
      ]
     },
     "execution_count": 127,
     "metadata": {},
     "output_type": "execute_result"
    }
   ],
   "source": [
    "pd.Series(decoded_authors).value_counts().head(10)\n"
   ]
  },
  {
   "cell_type": "markdown",
   "id": "4b135ece-808d-4502-b3af-2f0bed4e66c1",
   "metadata": {},
   "source": [
    "The bar chart titled “Top 10 Text Dataset” highlights the distribution of predicates across the most represented authors in the dataset. Author 31 leads with over 5,000 predicates, followed by Authors 50 and 49 with around 4,000 each. The remaining authors range between 2,000 and 3,000 predicates. This visualization confirms that the dataset is skewed toward a few dominant authors, which has direct implications for model training. It justifies the need for class balancing techniques to prevent bias and ensure fair generalization across all 50 classes. By identifying these disparities early in the analysis, we were able to plan corrective steps such as stratified sampling and weighted loss functions to improve model fairness and performance."
   ]
  },
  {
   "cell_type": "code",
   "execution_count": 130,
   "id": "5b8095db-7a7d-4945-a91a-e31c9e8892d4",
   "metadata": {},
   "outputs": [
    {
     "data": {
      "image/png": "[encoded data removed]",
      "text/plain": [
       "<Figure size 1000x600 with 1 Axes>"
      ]
     },
     "metadata": {},
     "output_type": "display_data"
    }
   ],
   "source": [
    "import matplotlib.pyplot as plt\n",
    "import pandas as pd\n",
    "\n",
    "\n",
    "author_counts = pd.Series(decoded_authors).value_counts().head(10)\n",
    "\n",
    "plt.figure(figsize=(10, 6))\n",
    "author_counts.plot(kind='bar', color='skyblue')\n",
    "plt.title(\"Top 10 Text Dataset\")\n",
    "plt.xlabel(\"Author\")\n",
    "plt.ylabel(\"Number of Predictions\")\n",
    "plt.xticks(rotation=45)\n",
    "plt.grid(axis='y')\n",
    "plt.tight_layout()\n",
    "plt.show()\n"
   ]
  },
  {
   "cell_type": "code",
   "execution_count": 131,
   "id": "3e2c5df4-2d9a-484b-ba35-a4a0d93a3d4d",
   "metadata": {},
   "outputs": [],
   "source": [
    "import pandas as pd\n",
    "\n",
    "results_df = pd.DataFrame({\n",
    "    \"text\": texts,  #  second dataset texts\n",
    "    \"predicted_author\": decoded_authors  # model predictions\n",
    "})\n"
   ]
  },
  {
   "cell_type": "code",
   "execution_count": 133,
   "id": "fcf9fb0a-12d4-4045-a874-0e139fa91feb",
   "metadata": {},
   "outputs": [],
   "source": [
    "model.save(\"author_model_v1.keras\")#saving the model\n",
    "\n",
    "\n",
    "import pickle\n",
    "with open(\"tokenizer.pkl\", \"wb\") as f:\n",
    "    pickle.dump(tokenizer, f)\n",
    "\n",
    "with open(\"label_encoder.pkl\", \"wb\") as f:\n",
    "    pickle.dump(label_encoder, f)\n"
   ]
  },
  {
   "cell_type": "markdown",
   "id": "d176817f-95b8-40e0-b535-d95c88878607",
   "metadata": {},
   "source": []
  }
 ],
 "metadata": {
  "kernelspec": {
   "display_name": "Python (tf_env3)",
   "language": "python",
   "name": "tf_env3"
  },
  "language_info": {
   "codemirror_mode": {
    "name": "ipython",
    "version": 3
   },
   "file_extension": ".py",
   "mimetype": "text/x-python",
   "name": "python",
   "nbconvert_exporter": "python",
   "pygments_lexer": "ipython3",
   "version": "3.10.18"
  }
 },
 "nbformat": 4,
 "nbformat_minor": 5
}
